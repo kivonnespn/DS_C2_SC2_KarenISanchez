{
  "nbformat": 4,
  "nbformat_minor": 0,
  "metadata": {
    "colab": {
      "provenance": [],
      "mount_file_id": "1kW5-atM7z4PqIhL6GUihyeJVpT7KmQpd",
      "authorship_tag": "ABX9TyPZ5ppkoc3tohw5fEvfEcb0",
      "include_colab_link": true
    },
    "kernelspec": {
      "name": "python3",
      "display_name": "Python 3"
    },
    "language_info": {
      "name": "python"
    }
  },
  "cells": [
    {
      "cell_type": "markdown",
      "metadata": {
        "id": "view-in-github",
        "colab_type": "text"
      },
      "source": [
        "<a href=\"https://colab.research.google.com/github/kivonnespn/DS_C2_SC2_KarenISanchez/blob/main/DS_C2_SC2_KarenSanchez.ipynb\" target=\"_parent\"><img src=\"https://colab.research.google.com/assets/colab-badge.svg\" alt=\"Open In Colab\"/></a>"
      ]
    },
    {
      "cell_type": "code",
      "execution_count": 12,
      "metadata": {
        "id": "wfqjoQGMNhaB"
      },
      "outputs": [],
      "source": [
        "# Primero importamos la librería con la que vamos a trabajar:\n",
        "import pandas as pd\n",
        "\n",
        "# a. Extraer la información del archivo.\n",
        "\n",
        "df = pd.read_csv('/content/drive/MyDrive/country_vaccinations.csv')\n",
        "\n",
        "#b. Mostrar la estructura y tipos de datos de cada columna para identificar qué operaciones puedes realizar con cada una de ellas, asegurándote que las columnas con fechas sean del tipo datetime64.\n",
        "\n",
        "df['date'] = df['date'].apply(pd.to_datetime)\n",
        "#df.info()\n",
        "\n",
        "#c. Determinar la cantidad de vacunas aplicadas de cada compañía (con base en cómo lo reporta cada país en la columna vaccines, en otras palabras, agrupe por vaccines y realice la sumatoria).\n",
        "\n",
        "vacunas_por_compania = df.groupby('vaccines')['total_vaccinations'].sum()\n",
        "#print(\"Cantidad de vacunas aplicadas de cada compañía\", vacunas_por_compania)\n",
        "\n",
        "#d. Obtener la cantidad de vacunas aplicadas en todo el mundo.\n",
        "\n",
        "total_vacunas_mundo = df['total_vaccinations'].sum()\n",
        "#print(\"Total de vacunas aplicadas en todo el mundo:\", total_vacunas_mundo)\n",
        "\n",
        "#e. Calcular el promedio de vacunas aplicadas por país.\n",
        "\n",
        "promedio_vacunas_por_pais = df.groupby('country')['total_vaccinations'].mean()\n",
        "#print(\"Promedio de vacunas aplicadas por país:\", promedio_vacunas_por_pais)\n",
        "\n",
        "#f. Determinar la cantidad de vacunas aplicadas el día 29/01/21 en todo el mundo.\n",
        "\n",
        "df_29_01_21 = df[df['date'] == '2021-01-29']\n",
        "total_vacunas_29_01_21 = df_29_01_21['total_vaccinations'].sum()\n",
        "#print(\"Total de vacunas aplicadas el 29/01/21 en todo el mundo:\", total_vacunas_29_01_21)\n",
        "\n",
        "#g. Crear un dataframe nuevo denominado conDiferencias que contenga los datos originales y una columna derivada (diferencias) con las diferencias de aplicación\n",
        "#entre las columnas daily_vaccionations y daily_vaccionations_raw.\n",
        "\n",
        "conDiferencias = df.copy()\n",
        "conDiferencias['diferencias'] = abs(conDiferencias['daily_vaccinations'] - conDiferencias['daily_vaccinations_raw'])\n",
        "#print(conDiferencias)\n",
        "\n",
        "#h. Obtener el periodo de tiempo entre el registro con fecha más reciente y el registro con fecha más antigua.\n",
        "\n",
        "fecha_mas_antigua = df['date'].min()\n",
        "fecha_mas_reciente = df['date'].max()\n",
        "diferencia_tiempo = fecha_mas_reciente - fecha_mas_antigua\n",
        "#print(\"Período de tiempo entre la fecha más antigua y la fecha más reciente:\", diferencia_tiempo)\n",
        "\n",
        "#i. Crear un dataframe nuevo denominado conCantidad que contenga los datos originales y una columna derivada (canVac) con la cantidad de vacunas utilizadas\n",
        "#cada día (usar la columna vaccines y separar por el carácter , ).\n",
        "\n",
        "conCantidad = df.copy()\n",
        "conCantidad['canVac'] = conCantidad['vaccines'].apply(lambda x: len(x.split(', ')))\n",
        "#print(conCantidad)\n",
        "\n",
        "#j. Generar un dataframe denominado antes20 con todos los registros que se hayan realizado antes del 20 de diciembre de 2020.\n",
        "\n",
        "antes20 = df.loc[df['date'] < '2020-12-20']\n",
        "#print(antes20)\n",
        "\n",
        "#k. Obtener un dataframe denominado pfizer con todos los registros donde se haya utilizado la vacuna Pfizer.\n",
        "\n",
        "pfizer = df[df['vaccines'].str.contains('Pfizer', case=False, na=False)]\n",
        "#print(pfizer)\n",
        "\n",
        "#l. Almacenar los dataframes generados (conDiferencias, conCantidad, antes20 y pfizer) en un archivo de Excel denominado resultadosReto.xlsx, donde cada dataframe ocupe una hoja diferente. Se recomienda ver la documentación de pd.ExcelWriter.\n",
        "\n",
        "with pd.ExcelWriter(\"/content/drive/MyDrive/resultadosReto.xlsx\") as writer:\n",
        "  conDiferencias.to_excel(writer, sheet_name=\"conDiferencias\")\n",
        "  conCantidad.to_excel(writer, sheet_name=\"conCantidad\")\n",
        "  antes20.to_excel(writer, sheet_name=\"antes20\")\n",
        "  pfizer.to_excel(writer, sheet_name=\"pfizer\")\n"
      ]
    },
    {
      "cell_type": "code",
      "source": [],
      "metadata": {
        "id": "I3BCdnryPrtx"
      },
      "execution_count": null,
      "outputs": []
    }
  ]
}